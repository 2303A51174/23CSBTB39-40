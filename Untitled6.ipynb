{
  "nbformat": 4,
  "nbformat_minor": 0,
  "metadata": {
    "colab": {
      "provenance": [],
      "authorship_tag": "ABX9TyNnxcnLIdNfEU4vOIGUoQFw",
      "include_colab_link": true
    },
    "kernelspec": {
      "name": "python3",
      "display_name": "Python 3"
    },
    "language_info": {
      "name": "python"
    }
  },
  "cells": [
    {
      "cell_type": "markdown",
      "metadata": {
        "id": "view-in-github",
        "colab_type": "text"
      },
      "source": [
        "<a href=\"https://colab.research.google.com/github/2303A51174/23CSBTB39-40/blob/main/Untitled6.ipynb\" target=\"_parent\"><img src=\"https://colab.research.google.com/assets/colab-badge.svg\" alt=\"Open In Colab\"/></a>"
      ]
    },
    {
      "cell_type": "code",
      "execution_count": null,
      "metadata": {
        "id": "mEiuabS2cqmd"
      },
      "outputs": [],
      "source": []
    },
    {
      "cell_type": "markdown",
      "source": [
        "Part 1 – Implement Basic Data Structures using Numpy, Pandas\n",
        "1. Lists\n",
        "2. Arrays\n",
        "3. Identify their type using type()\n",
        "4. Perform mathematical operations on these datasets created - multiplication, division,\n",
        "poweroff\n",
        "5. Combine text with Numpy fuction to generate a textual output - ”Addition of Two:\n",
        "array1 +array 2\n",
        "6. Implement np.sin(), log(), log2(), np.exp())\n",
        ""
      ],
      "metadata": {
        "id": "EbviMhHjdVwI"
      }
    },
    {
      "cell_type": "markdown",
      "source": [
        "import  "
      ],
      "metadata": {
        "id": "q0rZKqfAdzcN"
      }
    },
    {
      "cell_type": "code",
      "source": [
        "import numpy as np\n",
        "import pandas as pd\n",
        "list1 = [1, 2, 3, 4, 5]\n",
        "list2 = [6, 7, 8, 9, 10]\n",
        "array1 = np.array(list1)\n",
        "array2 = np.array(list2)\n",
        "print(\"List:\",list1)\n",
        "print(\"Array:\",array1)\n",
        "print(\"Type of list1:\", type(list1))\n",
        "print(\"Type of array1:\", type(array1))\n",
        "array_mult = array1 * array2\n",
        "print(\"Multiplication of array1 and array2:\", array_mult)\n",
        "array_div = array1 / array2\n",
        "print(\"Division of array1 by array2:\", array_div)\n",
        "array_pow = np.power(array1, 2)\n",
        "print(\"Power of array1 elements:\", array_pow)\n",
        "addition_result = array1 + array2\n",
        "print(\"Addition of Two: array1 + array2 =\", addition_result)\n",
        "sin_array = np.sin(array1)\n",
        "print(\"Sine of array1 elements:\", sin_array)\n",
        "log_array = np.log(array1)\n",
        "print(\"Natural log of array1 elements:\", log_array)\n",
        "log2_array = np.log2(array1)\n",
        "print(\"Log base 2 of array1 elements:\", log2_array)\n",
        "exp_array = np.exp(array1)\n",
        "print(\"Exponential of array1 elements:\", exp_array)"
      ],
      "metadata": {
        "colab": {
          "base_uri": "https://localhost:8080/"
        },
        "id": "gpgTNBjBd9Ka",
        "outputId": "c666c77f-4dcd-4a28-996b-4031edb955ea"
      },
      "execution_count": 1,
      "outputs": [
        {
          "output_type": "stream",
          "name": "stdout",
          "text": [
            "List: [1, 2, 3, 4, 5]\n",
            "Array: [1 2 3 4 5]\n",
            "Type of list1: <class 'list'>\n",
            "Type of array1: <class 'numpy.ndarray'>\n",
            "Multiplication of array1 and array2: [ 6 14 24 36 50]\n",
            "Division of array1 by array2: [0.16666667 0.28571429 0.375      0.44444444 0.5       ]\n",
            "Power of array1 elements: [ 1  4  9 16 25]\n",
            "Addition of Two: array1 + array2 = [ 7  9 11 13 15]\n",
            "Sine of array1 elements: [ 0.84147098  0.90929743  0.14112001 -0.7568025  -0.95892427]\n",
            "Natural log of array1 elements: [0.         0.69314718 1.09861229 1.38629436 1.60943791]\n",
            "Log base 2 of array1 elements: [0.         1.         1.5849625  2.         2.32192809]\n",
            "Exponential of array1 elements: [  2.71828183   7.3890561   20.08553692  54.59815003 148.4131591 ]\n"
          ]
        }
      ]
    }
  ]
}